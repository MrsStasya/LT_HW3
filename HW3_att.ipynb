{
  "nbformat": 4,
  "nbformat_minor": 0,
  "metadata": {
    "colab": {
      "provenance": []
    },
    "kernelspec": {
      "name": "python3",
      "display_name": "Python 3"
    },
    "language_info": {
      "name": "python"
    }
  },
  "cells": [
    {
      "cell_type": "markdown",
      "source": [
        "# Transfer learning\n",
        "\n",
        "## Урок 3. Model as a service и разные применения Transfer learning\n",
        "\n",
        "### Практическое задание\n",
        "\n",
        "Реализуйте классификацию эмоциональной окрашенности текстов при помощи объекта pipeline.\n",
        "1. Найдите тип задач Sentiment Analysis на huggingface.co\n",
        "2. Найдите модель для русского языка (примеры: rubert-tiny2..., rubert-base...)\n"
      ],
      "metadata": {
        "id": "W2yOM48zCXEi"
      }
    },
    {
      "cell_type": "code",
      "execution_count": 24,
      "metadata": {
        "id": "kDjRZ7SdCTt9"
      },
      "outputs": [],
      "source": [
        "from transformers import pipeline"
      ]
    },
    {
      "cell_type": "markdown",
      "source": [
        "Модель RuBERT, доработанная для классификации эмоций в коротких текстах на русском языке.  \n",
        "https://huggingface.co/seara/rubert-base-cased-ru-go-emotions"
      ],
      "metadata": {
        "id": "vLflGEetNoGf"
      }
    },
    {
      "cell_type": "code",
      "source": [
        "model = pipeline(model=\"seara/rubert-base-cased-ru-go-emotions\")"
      ],
      "metadata": {
        "id": "IWV6E2NfC0Dd"
      },
      "execution_count": 25,
      "outputs": []
    },
    {
      "cell_type": "code",
      "source": [
        "text1 = [\"Отличный товар\",\n",
        "        \"Мне не понравилось\",\n",
        "        \"Прекрасно выглядит, ничего не меняйте!\",\n",
        "        \"Ничего не понял\",\n",
        "        \"У меня не работала розетка, в остальном все отлично\"]"
      ],
      "metadata": {
        "id": "A5y0aCvDCz_3"
      },
      "execution_count": 3,
      "outputs": []
    },
    {
      "cell_type": "code",
      "source": [
        "model(text1)"
      ],
      "metadata": {
        "colab": {
          "base_uri": "https://localhost:8080/"
        },
        "id": "GzyRLjRVCz8l",
        "outputId": "79514ac2-b0d3-401f-964f-df3c65e2338b"
      },
      "execution_count": 26,
      "outputs": [
        {
          "output_type": "execute_result",
          "data": {
            "text/plain": [
              "[{'label': 'admiration', 'score': 0.9238640666007996},\n",
              " {'label': 'neutral', 'score': 0.4071900248527527},\n",
              " {'label': 'admiration', 'score': 0.9382498860359192},\n",
              " {'label': 'neutral', 'score': 0.41783228516578674},\n",
              " {'label': 'amusement', 'score': 0.4031013250350952}]"
            ]
          },
          "metadata": {},
          "execution_count": 26
        }
      ]
    },
    {
      "cell_type": "code",
      "source": [
        "label_ru = {\n",
        "'admiration': 'восхищение',\n",
        "'amusement': 'веселье',\n",
        "'anger': 'злость',\n",
        "'annoyance': 'раздражение',\n",
        "'approval': 'одобрение',\n",
        "'caring': 'забота',\n",
        "'confusion': 'непонимание',\n",
        "'curiosity': 'любопытство',\n",
        "'desire': 'желание',\n",
        "'disappointment': 'разочарование',\n",
        "'disapproval': 'неодобрение',\n",
        "'disgust': 'отвращение',\n",
        "'embarrassment': 'смущение',\n",
        "'excitement': 'возбуждение',\n",
        "'fear': 'страх',\n",
        "'gratitude': 'признательность',\n",
        "'grief': 'горе',\n",
        "'joy': 'радость',\n",
        "'love': 'любовь',\n",
        "'nervousness': 'нервозность',\n",
        "'optimism': 'оптимизм',\n",
        "'pride': 'гордость',\n",
        "'realization': 'осознание',\n",
        "'relief': 'облегчение',\n",
        "'remorse': 'раскаяние',\n",
        "'sadness': 'грусть',\n",
        "'surprise': 'удивление',\n",
        "'laziness': 'лень',\n",
        "'neutral': 'нейтральность'\n",
        "}"
      ],
      "metadata": {
        "id": "XCDAa_wiE7uu"
      },
      "execution_count": 27,
      "outputs": []
    },
    {
      "cell_type": "code",
      "source": [
        "def get_label_ru(text, label_ru, model):\n",
        "  label = model[0]['label']\n",
        "  score = model[0]['score']\n",
        "  return label_ru[label], round(score, 2)"
      ],
      "metadata": {
        "id": "xizzsbqoKr1H"
      },
      "execution_count": 28,
      "outputs": []
    },
    {
      "cell_type": "code",
      "source": [
        "text2 = ['Прекрасный день.Учиться лень']"
      ],
      "metadata": {
        "id": "waYfuE7-J7gv"
      },
      "execution_count": 29,
      "outputs": []
    },
    {
      "cell_type": "code",
      "source": [
        "for txt in text2:\n",
        "  print(get_label_ru(txt, label_ru, model(txt)))"
      ],
      "metadata": {
        "colab": {
          "base_uri": "https://localhost:8080/"
        },
        "id": "J0N8JwyiLjGH",
        "outputId": "dacbece0-75db-494e-b27f-31a52e62dac9"
      },
      "execution_count": 30,
      "outputs": [
        {
          "output_type": "stream",
          "name": "stdout",
          "text": [
            "('восхищение', 0.68)\n"
          ]
        }
      ]
    },
    {
      "cell_type": "markdown",
      "source": [
        "Модель RuBERT-tiny2, адаптированная для классификации коротких текстов на русском языке по тональности.\n",
        "https://huggingface.co/seara/rubert-tiny2-russian-sentiment"
      ],
      "metadata": {
        "id": "u-KaLYXKOLAt"
      }
    },
    {
      "cell_type": "code",
      "source": [
        "model = pipeline(model=\"seara/rubert-tiny2-russian-sentiment\")"
      ],
      "metadata": {
        "id": "CewpEw52NhTn"
      },
      "execution_count": 31,
      "outputs": []
    },
    {
      "cell_type": "code",
      "source": [
        "model(text1)"
      ],
      "metadata": {
        "colab": {
          "base_uri": "https://localhost:8080/"
        },
        "id": "Wn0NIL4yNhD2",
        "outputId": "6bd6c5c8-08a6-459d-a8bf-9a06ea3217f9"
      },
      "execution_count": 32,
      "outputs": [
        {
          "output_type": "execute_result",
          "data": {
            "text/plain": [
              "[{'label': 'positive', 'score': 0.9941100478172302},\n",
              " {'label': 'neutral', 'score': 0.5911950469017029},\n",
              " {'label': 'positive', 'score': 0.9389205574989319},\n",
              " {'label': 'negative', 'score': 0.524005651473999},\n",
              " {'label': 'positive', 'score': 0.6734205484390259}]"
            ]
          },
          "metadata": {},
          "execution_count": 32
        }
      ]
    },
    {
      "cell_type": "code",
      "source": [
        "label_ru = {\n",
        "'neutral': 'нейтральный',\n",
        "'positive': 'позитивный',\n",
        "'negative': 'негативный'\n",
        "}"
      ],
      "metadata": {
        "id": "yi7sL_0FKAgx"
      },
      "execution_count": 33,
      "outputs": []
    },
    {
      "cell_type": "code",
      "source": [
        "for txt in text2:\n",
        "  print(get_label_ru(txt, label_ru, model(txt)))"
      ],
      "metadata": {
        "colab": {
          "base_uri": "https://localhost:8080/"
        },
        "id": "_mBJUuTwPCL-",
        "outputId": "80e9a271-6c47-437e-dfc7-56fb9746260a"
      },
      "execution_count": 34,
      "outputs": [
        {
          "output_type": "stream",
          "name": "stdout",
          "text": [
            "('позитивный', 0.99)\n"
          ]
        }
      ]
    },
    {
      "cell_type": "code",
      "source": [],
      "metadata": {
        "id": "nSZz1ZTYPFzP"
      },
      "execution_count": 14,
      "outputs": []
    }
  ]
}